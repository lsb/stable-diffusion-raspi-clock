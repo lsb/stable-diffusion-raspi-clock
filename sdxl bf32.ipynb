{
 "cells": [
  {
   "cell_type": "code",
   "execution_count": 1,
   "id": "c7a7f37f-f1a6-4b0b-85c2-07d1fd68d513",
   "metadata": {},
   "outputs": [],
   "source": [
    "# take the SDXL1.0 model in 32-bit precision, and use bf16 precision, but in 32 bits, to support cpu datatypes, + zram-swap"
   ]
  },
  {
   "cell_type": "code",
   "execution_count": 2,
   "id": "724805b4-6205-4fb0-adea-23c899eac9f1",
   "metadata": {
    "scrolled": true
   },
   "outputs": [],
   "source": [
    "#! pip install --upgrade numpy\n",
    "#! pip install --upgrade torch transformers diffusers accelerate optimum invisible_watermark"
   ]
  },
  {
   "cell_type": "code",
   "execution_count": 3,
   "id": "b385a87f-6fe9-4595-bfb2-4ca0298d2af4",
   "metadata": {},
   "outputs": [
    {
     "name": "stderr",
     "output_type": "stream",
     "text": [
      "/home/lsb/.local/lib/python3.9/site-packages/tqdm/auto.py:21: TqdmWarning: IProgress not found. Please update jupyter and ipywidgets. See https://ipywidgets.readthedocs.io/en/stable/user_install.html\n",
      "  from .autonotebook import tqdm as notebook_tqdm\n"
     ]
    }
   ],
   "source": [
    "import torch\n",
    "from diffusers import StableDiffusionXLPipeline, DPMSolverMultistepScheduler\n"
   ]
  },
  {
   "cell_type": "code",
   "execution_count": 4,
   "id": "d4d3ae5d-95c4-423a-bfdb-fce819115ae6",
   "metadata": {},
   "outputs": [],
   "source": [
    "model_id = \"stabilityai/stable-diffusion-xl-base-1.0\""
   ]
  },
  {
   "cell_type": "code",
   "execution_count": 5,
   "id": "68c5eb9f-db6f-43a5-866d-ddfb0f90be6c",
   "metadata": {},
   "outputs": [
    {
     "name": "stderr",
     "output_type": "stream",
     "text": [
      "Loading pipeline components...: 100%|██████████| 7/7 [00:13<00:00,  1.93s/it]\n"
     ]
    }
   ],
   "source": [
    "pipe = StableDiffusionXLPipeline.from_pretrained(\n",
    "    model_id,\n",
    "    torch_dtype=torch.float16,\n",
    "    variant=\"fp16\",\n",
    "    use_safetensors=True,\n",
    "    local_files_only=True,\n",
    ")"
   ]
  },
  {
   "cell_type": "code",
   "execution_count": 6,
   "id": "e00e9944-98c4-489b-84c1-5caee4ea7ad2",
   "metadata": {},
   "outputs": [],
   "source": [
    "pipe.text_encoder = pipe.text_encoder.to(torch.bfloat16).to(torch.float32)"
   ]
  },
  {
   "cell_type": "code",
   "execution_count": 7,
   "id": "97414180-4fbd-4bb8-bb18-f1a572701608",
   "metadata": {},
   "outputs": [],
   "source": [
    "pipe.text_encoder_2 = pipe.text_encoder_2.to(torch.bfloat16).to(torch.float32)"
   ]
  },
  {
   "cell_type": "code",
   "execution_count": 8,
   "id": "517f7d15-5f06-470e-9a62-392c59f632c3",
   "metadata": {},
   "outputs": [],
   "source": [
    "pipe.unet = pipe.unet.to(torch.bfloat16).to(torch.float32)"
   ]
  },
  {
   "cell_type": "code",
   "execution_count": 9,
   "id": "05859c2d-e83c-4ba5-bf8f-70cfbdbc4c58",
   "metadata": {},
   "outputs": [],
   "source": [
    "pipe.vae = pipe.vae.to(torch.bfloat16).to(torch.float32)"
   ]
  },
  {
   "cell_type": "code",
   "execution_count": 10,
   "id": "2ae1cd8c-2af5-4e92-95b8-8bb1e7ebc7c7",
   "metadata": {},
   "outputs": [],
   "source": [
    "pipe.enable_attention_slicing(slice_size=1)\n"
   ]
  },
  {
   "cell_type": "code",
   "execution_count": 11,
   "id": "54ae0749-65a7-471f-9367-efdc265cb256",
   "metadata": {},
   "outputs": [],
   "source": [
    "#pipe(prompt=\"photo of a dog in a cafe using a laptop\").images[0]"
   ]
  },
  {
   "cell_type": "code",
   "execution_count": null,
   "id": "8f8af3b9-7841-4eb1-afc6-88e401c0a800",
   "metadata": {},
   "outputs": [],
   "source": []
  },
  {
   "cell_type": "code",
   "execution_count": null,
   "id": "0ccba8d1-5640-4582-9ffb-2a12a554aa7c",
   "metadata": {},
   "outputs": [],
   "source": []
  },
  {
   "cell_type": "code",
   "execution_count": 13,
   "id": "52618dbd-0992-4b77-9e77-7ea184c86c06",
   "metadata": {},
   "outputs": [],
   "source": [
    "pipe.save_pretrained(\"lsb/stable-diffusion-xl-base-1.0-bf32\", safe_serialization=True)\n"
   ]
  },
  {
   "cell_type": "code",
   "execution_count": null,
   "id": "6f9cfe5a-062c-4b66-9ba7-d4b1e5e49220",
   "metadata": {},
   "outputs": [],
   "source": []
  }
 ],
 "metadata": {
  "kernelspec": {
   "display_name": "Python 3 (ipykernel)",
   "language": "python",
   "name": "python3"
  },
  "language_info": {
   "codemirror_mode": {
    "name": "ipython",
    "version": 3
   },
   "file_extension": ".py",
   "mimetype": "text/x-python",
   "name": "python",
   "nbconvert_exporter": "python",
   "pygments_lexer": "ipython3",
   "version": "3.9.2"
  }
 },
 "nbformat": 4,
 "nbformat_minor": 5
}
